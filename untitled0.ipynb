{
  "nbformat": 4,
  "nbformat_minor": 0,
  "metadata": {
    "colab": {
      "provenance": [],
      "authorship_tag": "ABX9TyPobq0RYC2XtM04AO72UZIq",
      "include_colab_link": true
    },
    "kernelspec": {
      "name": "python3",
      "display_name": "Python 3"
    },
    "language_info": {
      "name": "python"
    }
  },
  "cells": [
    {
      "cell_type": "markdown",
      "metadata": {
        "id": "view-in-github",
        "colab_type": "text"
      },
      "source": [
        "<a href=\"https://colab.research.google.com/github/ankit4307/ankit4307.github.io/blob/main/untitled0.ipynb\" target=\"_parent\"><img src=\"https://colab.research.google.com/assets/colab-badge.svg\" alt=\"Open In Colab\"/></a>"
      ]
    },
    {
      "cell_type": "code",
      "source": [
        "print(\"hello world\")"
      ],
      "metadata": {
        "colab": {
          "base_uri": "https://localhost:8080/"
        },
        "id": "MApI_TO7DJhy",
        "outputId": "a4c26885-8194-4be8-fc37-aab80962b2cc"
      },
      "execution_count": null,
      "outputs": [
        {
          "output_type": "stream",
          "name": "stdout",
          "text": [
            "hello world\n"
          ]
        }
      ]
    },
    {
      "cell_type": "code",
      "source": [
        "item1=\"burger\"\n",
        "price_of_item1=80\n",
        "discount_item1=10\n",
        "total_discount_item1=price_of_item1*discount_item1/100\n",
        "final_prize_of_item1=price_of_item1-total_discount_item1\n",
        "print(\"Final prize of burger :\",final_prize_of_item1)\n",
        "\n",
        "item2=\"pizza\"\n",
        "price_of_item2=150\n",
        "discount_item2=9\n",
        "total_discount_item2=price_of_item2*discount_item2/100\n",
        "final_prize_of_item2=price_of_item2-total_discount_item2\n",
        "print(\"Final prize of pizza :\",final_prize_of_item2)\n",
        "\n",
        "item3=\"wrap\"\n",
        "price_of_item3=120\n",
        "discount_item3=9\n",
        "total_discount_item3=price_of_item3*discount_item3/100\n",
        "final_prize_of_item3=price_of_item3-total_discount_item3\n",
        "print(\"Final prize of wrap :\",final_prize_of_item3)\n",
        "\n",
        "item4=\"fries\"\n",
        "price_of_item4=130\n",
        "discount_item4=9\n",
        "total_discount_item4=price_of_item4*discount_item4/100\n",
        "final_prize_of_item4=price_of_item4-total_discount_item4\n",
        "print(\"Final prize of fries : \",final_prize_of_item4)\n",
        "Enter_your_name=\"Ankit kumar\"\n",
        "Enter_your_adress=\"186 daria chandigarh\"\n",
        "Enter_mobile_no=7888304156\n",
        "Enter_pin_code=160002\n",
        "print(\"Custmer Name :\",Enter_your_name)\n",
        "print(\"custmer adress :\",Enter_your_adress)\n",
        "print(\"custmer phone no :\",Enter_mobile_no)\n",
        "print(\"custmer pin code :\",Enter_pin_code)\n",
        "total_discount=total_discount_item1+total_discount_item2+total_discount_item3+total_discount_item4\n",
        "final_prize=final_prize_of_item1+final_prize_of_item2+final_prize_of_item3+final_prize_of_item4\n",
        "\n",
        "print(\"Total discount :\",total_discount)\n",
        "print(\"Payable bill :\",final_prize)\n"
      ],
      "metadata": {
        "id": "E2rsdJ0BTHiX",
        "outputId": "ecee7851-089d-4125-c2e6-966454f81703",
        "colab": {
          "base_uri": "https://localhost:8080/"
        }
      },
      "execution_count": 1,
      "outputs": [
        {
          "output_type": "stream",
          "name": "stdout",
          "text": [
            "Final prize of burger : 72.0\n",
            "Final prize of pizza : 136.5\n",
            "Final prize of wrap : 109.2\n",
            "Final prize of fries :  118.3\n",
            "Custmer Name : Ankit kumar\n",
            "custmer adress : 186 daria chandigarh\n",
            "custmer phone no : 7888304156\n",
            "custmer pin code : 160002\n",
            "Total discount : 44.0\n",
            "Payable bill : 436.0\n"
          ]
        }
      ]
    },
    {
      "cell_type": "code",
      "source": [
        "item=input(\"enter your item :\")\n",
        "print(item)\n",
        "ph=int(input(\"enter your phone no:\"))\n",
        "print(ph)"
      ],
      "metadata": {
        "id": "gm297erQWLr5",
        "outputId": "45ff87ea-938a-4bb6-eb37-1507e1080b7f",
        "colab": {
          "base_uri": "https://localhost:8080/"
        }
      },
      "execution_count": 4,
      "outputs": [
        {
          "output_type": "stream",
          "name": "stdout",
          "text": [
            "enter your item :burger\n",
            "burger\n",
            "enter your phone no:7888304156\n",
            "7888304156\n"
          ]
        }
      ]
    },
    {
      "cell_type": "code",
      "source": [
        "item1=input(\"Enter your item :\")\n",
        "print(item1)\n",
        "item2=input(\"Enter your item:\")\n",
        "print(item2)"
      ],
      "metadata": {
        "id": "igUkj_PaX5MF",
        "outputId": "ea161b8b-173b-4a2a-8e2d-80711caa0c90",
        "colab": {
          "base_uri": "https://localhost:8080/"
        }
      },
      "execution_count": 5,
      "outputs": [
        {
          "output_type": "stream",
          "name": "stdout",
          "text": [
            "Enter your item :burger\n",
            "burger\n",
            "Enter your item:pizza\n",
            "pizza\n"
          ]
        }
      ]
    },
    {
      "cell_type": "code",
      "source": [
        "a=int(input(\"Enter your first number :\"))\n",
        "\n",
        "b=int(input(\"Enter your second number :\"))\n",
        "\n",
        "\n",
        "print(\"Add two number :\",a+b)\n",
        "print(\"sub tow number :\",a-b)\n",
        "print(\"multiply two number :\",a*b)\n",
        "print(\"divide tow number :\",a/b)\n",
        "\n"
      ],
      "metadata": {
        "id": "NQ4oVBylYYwp",
        "outputId": "58bf5952-fb81-444b-e9eb-eaa3ffee2e38",
        "colab": {
          "base_uri": "https://localhost:8080/",
          "height": 263
        }
      },
      "execution_count": 12,
      "outputs": [
        {
          "name": "stdout",
          "output_type": "stream",
          "text": [
            "Enter your first number :8\n",
            "enter your operator/\n",
            "Enter your second number :9\n"
          ]
        },
        {
          "output_type": "error",
          "ename": "TypeError",
          "evalue": "unsupported operand type(s) for +: 'int' and 'str'",
          "traceback": [
            "\u001b[0;31m---------------------------------------------------------------------------\u001b[0m",
            "\u001b[0;31mTypeError\u001b[0m                                 Traceback (most recent call last)",
            "\u001b[0;32m/tmp/ipython-input-1393321417.py\u001b[0m in \u001b[0;36m<cell line: 0>\u001b[0;34m()\u001b[0m\n\u001b[1;32m      3\u001b[0m \u001b[0mb\u001b[0m\u001b[0;34m=\u001b[0m\u001b[0mint\u001b[0m\u001b[0;34m(\u001b[0m\u001b[0minput\u001b[0m\u001b[0;34m(\u001b[0m\u001b[0;34m\"Enter your second number :\"\u001b[0m\u001b[0;34m)\u001b[0m\u001b[0;34m)\u001b[0m\u001b[0;34m\u001b[0m\u001b[0;34m\u001b[0m\u001b[0m\n\u001b[1;32m      4\u001b[0m \u001b[0;34m\u001b[0m\u001b[0m\n\u001b[0;32m----> 5\u001b[0;31m \u001b[0mprint\u001b[0m\u001b[0;34m(\u001b[0m\u001b[0;34m\"enter your number :\"\u001b[0m\u001b[0;34m,\u001b[0m\u001b[0ma\u001b[0m\u001b[0;34m+\u001b[0m\u001b[0mc\u001b[0m\u001b[0;34m+\u001b[0m\u001b[0mb\u001b[0m\u001b[0;34m)\u001b[0m\u001b[0;34m\u001b[0m\u001b[0;34m\u001b[0m\u001b[0m\n\u001b[0m\u001b[1;32m      6\u001b[0m \u001b[0mprint\u001b[0m\u001b[0;34m(\u001b[0m\u001b[0;34m\"Add two number :\"\u001b[0m\u001b[0;34m,\u001b[0m\u001b[0ma\u001b[0m\u001b[0;34m+\u001b[0m\u001b[0mb\u001b[0m\u001b[0;34m)\u001b[0m\u001b[0;34m\u001b[0m\u001b[0;34m\u001b[0m\u001b[0m\n\u001b[1;32m      7\u001b[0m \u001b[0mprint\u001b[0m\u001b[0;34m(\u001b[0m\u001b[0;34m\"sub tow number :\"\u001b[0m\u001b[0;34m,\u001b[0m\u001b[0ma\u001b[0m\u001b[0;34m-\u001b[0m\u001b[0mb\u001b[0m\u001b[0;34m)\u001b[0m\u001b[0;34m\u001b[0m\u001b[0;34m\u001b[0m\u001b[0m\n",
            "\u001b[0;31mTypeError\u001b[0m: unsupported operand type(s) for +: 'int' and 'str'"
          ]
        }
      ]
    },
    {
      "cell_type": "markdown",
      "source": [
        "Bio data"
      ],
      "metadata": {
        "id": "5SSFzZtREyZ0"
      }
    },
    {
      "cell_type": "code",
      "source": [
        "# I making bio data#\n",
        "print(\"             BIODATA    \")\n",
        "print(\"\")\n",
        "print(\"Name           : Ankit kumar\")\n",
        "print(\"Phone number   : 7888304156\")\n",
        "print(\"Email add      : ankitkumar788830@gamil.com\")\n",
        "print(\"Father Name    : Ashok choudhry\")\n",
        "print(\"DOB            : 10/07/2004\")\n",
        "print(\"Age            : 21 \")\n",
        "\n",
        "print(\"Qulification   : Bca\")\n",
        "print(\"Langauge       : Hindi English\")\n",
        "print(\"Marrital Status: Unmarried\")\n",
        "print(\"gender         : Male\")\n",
        "print(\"Religion       : Hindu\")"
      ],
      "metadata": {
        "colab": {
          "base_uri": "https://localhost:8080/"
        },
        "id": "m5qOn1YcElqB",
        "outputId": "b155d5cb-bed8-4e94-90b6-28d4e735d998"
      },
      "execution_count": null,
      "outputs": [
        {
          "output_type": "stream",
          "name": "stdout",
          "text": [
            "             BIODATA    \n",
            "\n",
            "Name           : Ankit kumar\n",
            "Phone number   : 7888304156\n",
            "Email add      : ankitkumar788830@gamil.com\n",
            "Father Name    : Ashok choudhry\n",
            "DOB            : 10/07/2004\n",
            "Age            : 21 \n",
            "Qulification   : Bca\n",
            "Langauge       : Hindi English\n",
            "Marrital Status: Unmarried\n",
            "gender         : Male\n",
            "Religion       : Hindu\n"
          ]
        }
      ]
    },
    {
      "cell_type": "code",
      "source": [
        "name =\"Ankit kumar\"\n",
        "print(\"Name :\",name)\n",
        "ph= 788304156\n",
        "print(\"Phone No :\",ph)\n",
        "gmail= \"ankitkumar788830@gamil.com\"\n",
        "print(\"Email add :\",gmail)\n",
        "father =\"Ashok choudhry\"\n",
        "print(\"Father name\",father)\n",
        "dob= \"10/07/2004\"\n",
        "print(\"DOB :\",dob)\n",
        "age= 21\n",
        "print(\"Age :\",age)\n",
        "qly= \"bca\"\n",
        "print(\"qulification :\",qly)\n",
        "lang= \"Hindi English\"\n",
        "print(\"Language :\",lang)"
      ],
      "metadata": {
        "colab": {
          "base_uri": "https://localhost:8080/"
        },
        "id": "TxVsN-gyK35z",
        "outputId": "b196c3a1-83c6-4556-c890-db9c93ac3e5d"
      },
      "execution_count": null,
      "outputs": [
        {
          "output_type": "stream",
          "name": "stdout",
          "text": [
            "Name : Ankit kumar\n",
            "Phone No : 788304156\n",
            "Email add : ankitkumar788830@gamil.com\n",
            "Father name Ashok choudhry\n",
            "DOB : 10/07/2004\n",
            "Age : 21\n",
            "qulification bca\n",
            "Language : Hindi English\n"
          ]
        }
      ]
    },
    {
      "cell_type": "code",
      "source": [
        "item1=\"burger\"\n",
        "price_of_item1=80\n",
        "item2=\"pizza\"\n",
        "price_of_item2=150\n",
        "item3=\"wrap\"\n",
        "price_of_item3=120\n",
        "item4=\"friese\"\n",
        "price_of_item4=130\n",
        "item5=\"moms\"\n",
        "price_of_item5=90\n",
        "print(item1)\n",
        "print(price_of_item1)\n",
        "total=price_of_item1+price_of_item2+price_of_item3+price_of_item4+price_of_item5\n",
        "print(\"TOTAL_BILL\",total)\n",
        "discount=10\n",
        "total_dis=total*discount/100\n",
        "print(\"TOTAL discount\",total_dis)\n",
        "print(\"Pay_bill\",total-total_dis)\n"
      ],
      "metadata": {
        "colab": {
          "base_uri": "https://localhost:8080/"
        },
        "id": "-dj4uI6JNqoh",
        "outputId": "df55240d-5513-44e4-849b-564f52bbe87e"
      },
      "execution_count": null,
      "outputs": [
        {
          "output_type": "stream",
          "name": "stdout",
          "text": [
            "burger\n",
            "80\n",
            "TOTAL_BILL 570\n",
            "TOTAL discount 57.0\n",
            "Pay_bill 513.0\n"
          ]
        }
      ]
    },
    {
      "cell_type": "code",
      "source": [
        "first_number=5\n",
        "second_number=10\n",
        "print(first_number+second_number)\n"
      ],
      "metadata": {
        "colab": {
          "base_uri": "https://localhost:8080/"
        },
        "id": "-W7QDDW7KEta",
        "outputId": "3e464a31-e1f0-4df2-b7d6-122566efc60c"
      },
      "execution_count": null,
      "outputs": [
        {
          "output_type": "stream",
          "name": "stdout",
          "text": [
            "15\n"
          ]
        }
      ]
    },
    {
      "cell_type": "code",
      "source": [
        "a=500\n",
        "b=100\n",
        "sum=a+b\n",
        "sub=a-b\n",
        "mul=a*b\n",
        "div=a/b\n",
        "print(sum,sub,mul,div)"
      ],
      "metadata": {
        "colab": {
          "base_uri": "https://localhost:8080/"
        },
        "id": "0M2URar5L2IB",
        "outputId": "dcdd6c62-c9ce-4ee9-c3ee-7dc7bf4944c6"
      },
      "execution_count": null,
      "outputs": [
        {
          "output_type": "stream",
          "name": "stdout",
          "text": [
            "600 400 50000 5.0\n"
          ]
        }
      ]
    }
  ]
}