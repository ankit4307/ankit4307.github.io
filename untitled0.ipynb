{
  "nbformat": 4,
  "nbformat_minor": 0,
  "metadata": {
    "colab": {
      "provenance": [],
      "authorship_tag": "ABX9TyNf/xw0hChLaern4cmgWpWr",
      "include_colab_link": true
    },
    "kernelspec": {
      "name": "python3",
      "display_name": "Python 3"
    },
    "language_info": {
      "name": "python"
    }
  },
  "cells": [
    {
      "cell_type": "markdown",
      "metadata": {
        "id": "view-in-github",
        "colab_type": "text"
      },
      "source": [
        "<a href=\"https://colab.research.google.com/github/ankit4307/ankit4307.github.io/blob/main/untitled0.ipynb\" target=\"_parent\"><img src=\"https://colab.research.google.com/assets/colab-badge.svg\" alt=\"Open In Colab\"/></a>"
      ]
    },
    {
      "cell_type": "code",
      "source": [
        "product1=\"earbuds\"\n",
        "prize_of_product1=1500\n",
        "product2=\"shoes\"\n",
        "prize_of_product2=1800\n",
        "product3=\"mobile back cover\"\n",
        "prize_of_product3=400\n",
        "product4=\"jens\"\n",
        "prize_of_product4=1500\n",
        "total_bill=prize_of_product1+prize_of_product2+prize_of_product3+prize_of_product4\n",
        "print(\"TOTAL BILL :\",total_bill)\n",
        "discount_of_item1=10\n",
        "discountable_amount1=prize_of_product1*discount_of_item1/100\n",
        "discount_of_item2=30\n",
        "discountable_amount2=prize_of_product2*discount_of_item2/100\n",
        "discount_of_item3=20\n",
        "discountable_amount3=prize_of_product3*discount_of_item3/100\n",
        "discount_of_item4=45\n",
        "discountable_amount4=prize_of_product4*discount_of_item4/100\n",
        "totaldis=discountable_amount1+discountable_amount2+discountable_amount3+discountable_amount4\n",
        "print(\"TOTAL DISCOUNT :\",totaldis)\n",
        "totalbill_with_dic=total_bill-totaldis\n",
        "print(\"TOTAL BILL WITH DISCOUNT :\",totalbill_with_dic)\n",
        "addition_disc=10\n",
        "adition_dic=totalbill_with_dic*10/100\n",
        "print(\"ADITIONAL DISCOUNT :\",adition_dic)\n",
        "paybill=totalbill_with_dic-adition_dic\n",
        "print(\"PAYABLE BILL :\", paybill)\n",
        "name=input(\"Enter YOUR NAME :\")\n",
        "ph=int(input(\"ENTER YOUR PHONE NUMBER :\",))\n",
        "add=input(\"ENTER YOUR ADDRESS :\")\n",
        "\n",
        "\n"
      ],
      "metadata": {
        "colab": {
          "base_uri": "https://localhost:8080/"
        },
        "id": "MApI_TO7DJhy",
        "outputId": "c666c431-0570-4083-8166-68200101a0f6"
      },
      "execution_count": 6,
      "outputs": [
        {
          "name": "stdout",
          "output_type": "stream",
          "text": [
            "TOTAL BILL : 5200\n",
            "TOTAL DISCOUNT : 1445.0\n",
            "TOTAL BILL WITH DISCOUNT : 3755.0\n",
            "ADITIONAL DISCOUNT : 375.5\n",
            "PAYABLE BILL : 3379.5\n",
            "Enter YOUR NAME :ANKIT KUMAR\n",
            "ENTER YOUR PHONE NUMBER :7888304156\n",
            "ENTER YOUR ADDRESS186 N DARIA CHANDIGARH\n"
          ]
        }
      ]
    },
    {
      "cell_type": "markdown",
      "source": [
        "Bio data"
      ],
      "metadata": {
        "id": "5SSFzZtREyZ0"
      }
    },
    {
      "cell_type": "code",
      "source": [
        "# I making bio data#\n",
        "print(\"             BIODATA    \")\n",
        "print(\"\")\n",
        "print(\"Name           : Ankit kumar\")\n",
        "print(\"Phone number   : 7888304156\")\n",
        "print(\"Email add      : ankitkumar788830@gamil.com\")\n",
        "print(\"Father Name    : Ashok choudhry\")\n",
        "print(\"DOB            : 10/07/2004\")\n",
        "print(\"Age            : 21 \")\n",
        "\n",
        "print(\"Qulification   : Bca\")\n",
        "print(\"Langauge       : Hindi English\")\n",
        "print(\"Marrital Status: Unmarried\")\n",
        "print(\"gender         : Male\")\n",
        "print(\"Religion       : Hindu\")"
      ],
      "metadata": {
        "colab": {
          "base_uri": "https://localhost:8080/"
        },
        "id": "m5qOn1YcElqB",
        "outputId": "b155d5cb-bed8-4e94-90b6-28d4e735d998"
      },
      "execution_count": null,
      "outputs": [
        {
          "output_type": "stream",
          "name": "stdout",
          "text": [
            "             BIODATA    \n",
            "\n",
            "Name           : Ankit kumar\n",
            "Phone number   : 7888304156\n",
            "Email add      : ankitkumar788830@gamil.com\n",
            "Father Name    : Ashok choudhry\n",
            "DOB            : 10/07/2004\n",
            "Age            : 21 \n",
            "Qulification   : Bca\n",
            "Langauge       : Hindi English\n",
            "Marrital Status: Unmarried\n",
            "gender         : Male\n",
            "Religion       : Hindu\n"
          ]
        }
      ]
    },
    {
      "cell_type": "code",
      "source": [
        "name =\"Ankit kumar\"\n",
        "print(\"Name :\",name)\n",
        "ph= 788304156\n",
        "print(\"Phone No :\",ph)\n",
        "gmail= \"ankitkumar788830@gamil.com\"\n",
        "print(\"Email add :\",gmail)\n",
        "father =\"Ashok choudhry\"\n",
        "print(\"Father name\",father)\n",
        "dob= \"10/07/2004\"\n",
        "print(\"DOB :\",dob)\n",
        "age= 21\n",
        "print(\"Age :\",age)\n",
        "qly= \"bca\"\n",
        "print(\"qulification :\",qly)\n",
        "lang= \"Hindi English\"\n",
        "print(\"Language :\",lang)"
      ],
      "metadata": {
        "colab": {
          "base_uri": "https://localhost:8080/"
        },
        "id": "TxVsN-gyK35z",
        "outputId": "b196c3a1-83c6-4556-c890-db9c93ac3e5d"
      },
      "execution_count": null,
      "outputs": [
        {
          "output_type": "stream",
          "name": "stdout",
          "text": [
            "Name : Ankit kumar\n",
            "Phone No : 788304156\n",
            "Email add : ankitkumar788830@gamil.com\n",
            "Father name Ashok choudhry\n",
            "DOB : 10/07/2004\n",
            "Age : 21\n",
            "qulification bca\n",
            "Language : Hindi English\n"
          ]
        }
      ]
    },
    {
      "cell_type": "code",
      "source": [
        "item1=\"burger\"\n",
        "price_of_item1=80\n",
        "item2=\"pizza\"\n",
        "price_of_item2=150\n",
        "item3=\"wrap\"\n",
        "price_of_item3=120\n",
        "item4=\"friese\"\n",
        "price_of_item4=130\n",
        "item5=\"moms\"\n",
        "price_of_item5=90\n",
        "print(item1)\n",
        "print(price_of_item1)\n",
        "total=price_of_item1+price_of_item2+price_of_item3+price_of_item4+price_of_item5\n",
        "print(\"TOTAL_BILL\",total)\n",
        "discount=10\n",
        "total_dis=total*discount/100\n",
        "print(\"TOTAL discount\",total_dis)\n",
        "print(\"Pay_bill\",total-total_dis)\n"
      ],
      "metadata": {
        "colab": {
          "base_uri": "https://localhost:8080/"
        },
        "id": "-dj4uI6JNqoh",
        "outputId": "df55240d-5513-44e4-849b-564f52bbe87e"
      },
      "execution_count": null,
      "outputs": [
        {
          "output_type": "stream",
          "name": "stdout",
          "text": [
            "burger\n",
            "80\n",
            "TOTAL_BILL 570\n",
            "TOTAL discount 57.0\n",
            "Pay_bill 513.0\n"
          ]
        }
      ]
    },
    {
      "cell_type": "code",
      "source": [
        "first_number=5\n",
        "second_number=10\n",
        "print(first_number+second_number)\n"
      ],
      "metadata": {
        "colab": {
          "base_uri": "https://localhost:8080/"
        },
        "id": "-W7QDDW7KEta",
        "outputId": "3e464a31-e1f0-4df2-b7d6-122566efc60c"
      },
      "execution_count": null,
      "outputs": [
        {
          "output_type": "stream",
          "name": "stdout",
          "text": [
            "15\n"
          ]
        }
      ]
    },
    {
      "cell_type": "code",
      "source": [
        "a=500\n",
        "b=100\n",
        "sum=a+b\n",
        "sub=a-b\n",
        "mul=a*b\n",
        "div=a/b\n",
        "print(sum,sub,mul,div)"
      ],
      "metadata": {
        "colab": {
          "base_uri": "https://localhost:8080/"
        },
        "id": "0M2URar5L2IB",
        "outputId": "dcdd6c62-c9ce-4ee9-c3ee-7dc7bf4944c6"
      },
      "execution_count": null,
      "outputs": [
        {
          "output_type": "stream",
          "name": "stdout",
          "text": [
            "600 400 50000 5.0\n"
          ]
        }
      ]
    }
  ]
}