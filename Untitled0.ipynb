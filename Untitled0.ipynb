{
  "nbformat": 4,
  "nbformat_minor": 0,
  "metadata": {
    "colab": {
      "provenance": [],
      "authorship_tag": "ABX9TyOesWLhf7y+9ll5ZG1Qt4HN",
      "include_colab_link": true
    },
    "kernelspec": {
      "name": "python3",
      "display_name": "Python 3"
    },
    "language_info": {
      "name": "python"
    }
  },
  "cells": [
    {
      "cell_type": "markdown",
      "metadata": {
        "id": "view-in-github",
        "colab_type": "text"
      },
      "source": [
        "<a href=\"https://colab.research.google.com/github/ankit4307/ankit4307.github.io/blob/main/Untitled0.ipynb\" target=\"_parent\"><img src=\"https://colab.research.google.com/assets/colab-badge.svg\" alt=\"Open In Colab\"/></a>"
      ]
    },
    {
      "cell_type": "code",
      "source": [
        "print(\"hello world\")"
      ],
      "metadata": {
        "colab": {
          "base_uri": "https://localhost:8080/"
        },
        "id": "MApI_TO7DJhy",
        "outputId": "a4c26885-8194-4be8-fc37-aab80962b2cc"
      },
      "execution_count": null,
      "outputs": [
        {
          "output_type": "stream",
          "name": "stdout",
          "text": [
            "hello world\n"
          ]
        }
      ]
    },
    {
      "cell_type": "markdown",
      "source": [
        "Bio data"
      ],
      "metadata": {
        "id": "5SSFzZtREyZ0"
      }
    },
    {
      "cell_type": "code",
      "source": [
        "# I making bio data#\n",
        "print(\"             BIODATA    \")\n",
        "print(\"\")\n",
        "print(\"Name           : Ankit kumar\")\n",
        "print(\"Phone number   : 7888304156\")\n",
        "print(\"Email add      : ankitkumar788830@gamil.com\")\n",
        "print(\"Father Name    : Ashok choudhry\")\n",
        "print(\"DOB            : 10/07/2004\")\n",
        "print(\"Age            : 21 \")\n",
        "\n",
        "print(\"Qulification   : Bca\")\n",
        "print(\"Langauge       : Hindi English\")\n",
        "print(\"Marrital Status: Unmarried\")\n",
        "print(\"gender         : Male\")\n",
        "print(\"Religion       : Hindu\")"
      ],
      "metadata": {
        "colab": {
          "base_uri": "https://localhost:8080/"
        },
        "id": "m5qOn1YcElqB",
        "outputId": "b155d5cb-bed8-4e94-90b6-28d4e735d998"
      },
      "execution_count": null,
      "outputs": [
        {
          "output_type": "stream",
          "name": "stdout",
          "text": [
            "             BIODATA    \n",
            "\n",
            "Name           : Ankit kumar\n",
            "Phone number   : 7888304156\n",
            "Email add      : ankitkumar788830@gamil.com\n",
            "Father Name    : Ashok choudhry\n",
            "DOB            : 10/07/2004\n",
            "Age            : 21 \n",
            "Qulification   : Bca\n",
            "Langauge       : Hindi English\n",
            "Marrital Status: Unmarried\n",
            "gender         : Male\n",
            "Religion       : Hindu\n"
          ]
        }
      ]
    },
    {
      "cell_type": "code",
      "source": [
        "name =\"Ankit kumar\"\n",
        "print(\"Name :\",name)\n",
        "ph= 788304156\n",
        "print(\"Phone No :\",ph)\n",
        "gmail= \"ankitkumar788830@gamil.com\"\n",
        "print(\"Email add :\",gmail)\n",
        "father =\"Ashok choudhry\"\n",
        "print(\"Father name\",father)\n",
        "dob= \"10/07/2004\"\n",
        "print(\"DOB :\",dob)\n",
        "age= 21\n",
        "print(\"Age :\",age)\n",
        "qly= \"bca\"\n",
        "print(\"qulification :\",qly)\n",
        "lang= \"Hindi English\"\n",
        "print(\"Language :\",lang)"
      ],
      "metadata": {
        "colab": {
          "base_uri": "https://localhost:8080/"
        },
        "id": "TxVsN-gyK35z",
        "outputId": "b196c3a1-83c6-4556-c890-db9c93ac3e5d"
      },
      "execution_count": null,
      "outputs": [
        {
          "output_type": "stream",
          "name": "stdout",
          "text": [
            "Name : Ankit kumar\n",
            "Phone No : 788304156\n",
            "Email add : ankitkumar788830@gamil.com\n",
            "Father name Ashok choudhry\n",
            "DOB : 10/07/2004\n",
            "Age : 21\n",
            "qulification bca\n",
            "Language : Hindi English\n"
          ]
        }
      ]
    },
    {
      "cell_type": "code",
      "source": [
        "item1=\"burger\"\n",
        "price_of_item1=80\n",
        "item2=\"pizza\"\n",
        "price_of_item2=150\n",
        "item3=\"wrap\"\n",
        "price_of_item3=120\n",
        "item4=\"friese\"\n",
        "price_of_item4=130\n",
        "item5=\"moms\"\n",
        "price_of_item5=90\n",
        "print(item1)\n",
        "print(price_of_item1)\n",
        "total=price_of_item1+price_of_item2+price_of_item3+price_of_item4+price_of_item5\n",
        "print(\"TOTAL_BILL\",total)\n",
        "discount=10\n",
        "total_dis=total*discount/100\n",
        "print(\"TOTAL discount\",total_dis)\n",
        "print(\"Pay_bill\",total-total_dis)\n"
      ],
      "metadata": {
        "colab": {
          "base_uri": "https://localhost:8080/"
        },
        "id": "-dj4uI6JNqoh",
        "outputId": "df55240d-5513-44e4-849b-564f52bbe87e"
      },
      "execution_count": 32,
      "outputs": [
        {
          "output_type": "stream",
          "name": "stdout",
          "text": [
            "burger\n",
            "80\n",
            "TOTAL_BILL 570\n",
            "TOTAL discount 57.0\n",
            "Pay_bill 513.0\n"
          ]
        }
      ]
    },
    {
      "cell_type": "code",
      "source": [
        "first_number=5\n",
        "second_number=10\n",
        "print(first_number+second_number)\n"
      ],
      "metadata": {
        "colab": {
          "base_uri": "https://localhost:8080/"
        },
        "id": "-W7QDDW7KEta",
        "outputId": "3e464a31-e1f0-4df2-b7d6-122566efc60c"
      },
      "execution_count": 2,
      "outputs": [
        {
          "output_type": "stream",
          "name": "stdout",
          "text": [
            "15\n"
          ]
        }
      ]
    },
    {
      "cell_type": "code",
      "source": [
        "a=500\n",
        "b=100\n",
        "sum=a+b\n",
        "sub=a-b\n",
        "mul=a*b\n",
        "div=a/b\n",
        "print(sum,sub,mul,div)"
      ],
      "metadata": {
        "colab": {
          "base_uri": "https://localhost:8080/"
        },
        "id": "0M2URar5L2IB",
        "outputId": "dcdd6c62-c9ce-4ee9-c3ee-7dc7bf4944c6"
      },
      "execution_count": 3,
      "outputs": [
        {
          "output_type": "stream",
          "name": "stdout",
          "text": [
            "600 400 50000 5.0\n"
          ]
        }
      ]
    }
  ]
}