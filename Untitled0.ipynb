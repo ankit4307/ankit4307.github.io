{
  "nbformat": 4,
  "nbformat_minor": 0,
  "metadata": {
    "colab": {
      "provenance": [],
      "authorship_tag": "ABX9TyPtvKxQHWDNTYyylZF/hqxP",
      "include_colab_link": true
    },
    "kernelspec": {
      "name": "python3",
      "display_name": "Python 3"
    },
    "language_info": {
      "name": "python"
    }
  },
  "cells": [
    {
      "cell_type": "markdown",
      "metadata": {
        "id": "view-in-github",
        "colab_type": "text"
      },
      "source": [
        "<a href=\"https://colab.research.google.com/github/ankit4307/ankit4307.github.io/blob/main/Untitled0.ipynb\" target=\"_parent\"><img src=\"https://colab.research.google.com/assets/colab-badge.svg\" alt=\"Open In Colab\"/></a>"
      ]
    },
    {
      "cell_type": "code",
      "source": [
        "print(\"hello world\")"
      ],
      "metadata": {
        "colab": {
          "base_uri": "https://localhost:8080/"
        },
        "id": "MApI_TO7DJhy",
        "outputId": "a4c26885-8194-4be8-fc37-aab80962b2cc"
      },
      "execution_count": 5,
      "outputs": [
        {
          "output_type": "stream",
          "name": "stdout",
          "text": [
            "hello world\n"
          ]
        }
      ]
    },
    {
      "cell_type": "markdown",
      "source": [
        "Bio data"
      ],
      "metadata": {
        "id": "5SSFzZtREyZ0"
      }
    },
    {
      "cell_type": "code",
      "source": [
        "# I making bio data#\n",
        "print(\"             BIODATA    \")\n",
        "print(\"\")\n",
        "print(\"Name           : Ankit kumar\")\n",
        "print(\"Phone number   : 7888304156\")\n",
        "print(\"Email add      : ankitkumar788830@gamil.com\")\n",
        "print(\"Father Name    : Ashok choudhry\")\n",
        "print(\"DOB            : 10/07/2004\")\n",
        "print(\"Age            : 21 \")\n",
        "\n",
        "print(\"Qulification   : Bca\")\n",
        "print(\"Langauge       : Hindi English\")\n",
        "print(\"Marrital Status: Unmarried\")\n",
        "print(\"gender         : Male\")\n",
        "print(\"Religion       : Hindu\")"
      ],
      "metadata": {
        "colab": {
          "base_uri": "https://localhost:8080/"
        },
        "id": "m5qOn1YcElqB",
        "outputId": "b155d5cb-bed8-4e94-90b6-28d4e735d998"
      },
      "execution_count": 9,
      "outputs": [
        {
          "output_type": "stream",
          "name": "stdout",
          "text": [
            "             BIODATA    \n",
            "\n",
            "Name           : Ankit kumar\n",
            "Phone number   : 7888304156\n",
            "Email add      : ankitkumar788830@gamil.com\n",
            "Father Name    : Ashok choudhry\n",
            "DOB            : 10/07/2004\n",
            "Age            : 21 \n",
            "Qulification   : Bca\n",
            "Langauge       : Hindi English\n",
            "Marrital Status: Unmarried\n",
            "gender         : Male\n",
            "Religion       : Hindu\n"
          ]
        }
      ]
    },
    {
      "cell_type": "code",
      "source": [
        "name =\"Ankit kumar\"\n",
        "print(\"Name :\",name)\n",
        "ph= 788304156\n",
        "print(\"Phone No :\",ph)\n",
        "gmail= \"ankitkumar788830@gamil.com\"\n",
        "print(\"Email add :\",gmail)\n",
        "father =\"Ashok choudhry\"\n",
        "print(\"Father name\",father)\n",
        "dob= \"10/07/2004\"\n",
        "print(\"DOB :\",dob)\n",
        "age= 21\n",
        "print(\"Age :\",age)\n",
        "qly= \"bca\"\n",
        "print(\"qulification\",qly)\n",
        "lang= \"Hindi English\"\n",
        "print(\"Language :\",lang)"
      ],
      "metadata": {
        "colab": {
          "base_uri": "https://localhost:8080/"
        },
        "id": "TxVsN-gyK35z",
        "outputId": "b196c3a1-83c6-4556-c890-db9c93ac3e5d"
      },
      "execution_count": 17,
      "outputs": [
        {
          "output_type": "stream",
          "name": "stdout",
          "text": [
            "Name : Ankit kumar\n",
            "Phone No : 788304156\n",
            "Email add : ankitkumar788830@gamil.com\n",
            "Father name Ashok choudhry\n",
            "DOB : 10/07/2004\n",
            "Age : 21\n",
            "qulification bca\n",
            "Language : Hindi English\n"
          ]
        }
      ]
    }
  ]
}